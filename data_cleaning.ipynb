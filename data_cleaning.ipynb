{
  "nbformat": 4,
  "nbformat_minor": 0,
  "metadata": {
    "colab": {
      "provenance": []
    },
    "kernelspec": {
      "name": "python3",
      "display_name": "Python 3"
    },
    "language_info": {
      "name": "python"
    }
  },
  "cells": [
    {
      "cell_type": "markdown",
      "source": [
        "# **Data Cleaning Script**\n",
        "\n"
      ],
      "metadata": {
        "id": "tHJdiShs2ct2"
      }
    },
    {
      "cell_type": "markdown",
      "source": [],
      "metadata": {
        "id": "pRdWvUHh2YpO"
      }
    },
    {
      "cell_type": "code",
      "execution_count": 2,
      "metadata": {
        "id": "sa_KIXOs2Hw2"
      },
      "outputs": [],
      "source": [
        "# Loading the libraries\n",
        "import pandas as pd\n",
        "import numpy as np"
      ]
    },
    {
      "cell_type": "code",
      "source": [
        "# Setting pandas options to display all columns for better inspection\n",
        "pd.set_option('display.max_columns', None)"
      ],
      "metadata": {
        "id": "6fwebpN13GnF"
      },
      "execution_count": 4,
      "outputs": []
    },
    {
      "cell_type": "code",
      "source": [
        "# Loading Data\n",
        "df_raw = pd.read_csv('delhivery_data.csv')"
      ],
      "metadata": {
        "id": "uilFV7MC4DNj",
        "colab": {
          "base_uri": "https://localhost:8080/"
        },
        "outputId": "1ea3094f-81b1-4e2b-9ed0-964b306bec1d"
      },
      "execution_count": 6,
      "outputs": [
        {
          "output_type": "stream",
          "name": "stderr",
          "text": [
            "/tmp/ipython-input-158388052.py:2: DtypeWarning: Columns (12) have mixed types. Specify dtype option on import or set low_memory=False.\n",
            "  df_raw = pd.read_csv('delhivery_data.csv')\n"
          ]
        }
      ]
    },
    {
      "cell_type": "code",
      "source": [
        "df_raw.shape"
      ],
      "metadata": {
        "colab": {
          "base_uri": "https://localhost:8080/"
        },
        "id": "eh1RizxKdI4P",
        "outputId": "a21a37c1-e97b-4f66-d15f-8b1937cf4421"
      },
      "execution_count": 22,
      "outputs": [
        {
          "output_type": "execute_result",
          "data": {
            "text/plain": [
              "(114711, 24)"
            ]
          },
          "metadata": {},
          "execution_count": 22
        }
      ]
    },
    {
      "cell_type": "code",
      "source": [
        "# Initial Inspection\n",
        "# Data Types and Null Values\n",
        "df_raw.info()"
      ],
      "metadata": {
        "colab": {
          "base_uri": "https://localhost:8080/"
        },
        "id": "NcHy_lyD6avv",
        "outputId": "4c9ab306-ca40-4ec7-d313-35baf63f5640"
      },
      "execution_count": null,
      "outputs": [
        {
          "output_type": "stream",
          "name": "stdout",
          "text": [
            "<class 'pandas.core.frame.DataFrame'>\n",
            "RangeIndex: 32776 entries, 0 to 32775\n",
            "Data columns (total 24 columns):\n",
            " #   Column                          Non-Null Count  Dtype  \n",
            "---  ------                          --------------  -----  \n",
            " 0   data                            32776 non-null  object \n",
            " 1   trip_creation_time              32776 non-null  object \n",
            " 2   route_schedule_uuid             32776 non-null  object \n",
            " 3   route_type                      32776 non-null  object \n",
            " 4   trip_uuid                       32776 non-null  object \n",
            " 5   source_center                   32776 non-null  object \n",
            " 6   source_name                     32678 non-null  object \n",
            " 7   destination_center              32776 non-null  object \n",
            " 8   destination_name                32714 non-null  object \n",
            " 9   od_start_time                   32776 non-null  object \n",
            " 10  od_end_time                     32776 non-null  object \n",
            " 11  start_scan_to_end_scan          32776 non-null  float64\n",
            " 12  is_cutoff                       32776 non-null  bool   \n",
            " 13  cutoff_factor                   32776 non-null  int64  \n",
            " 14  cutoff_timestamp                32776 non-null  object \n",
            " 15  actual_distance_to_destination  32776 non-null  float64\n",
            " 16  actual_time                     32776 non-null  float64\n",
            " 17  osrm_time                       32776 non-null  float64\n",
            " 18  osrm_distance                   32776 non-null  float64\n",
            " 19  factor                          32776 non-null  float64\n",
            " 20  segment_actual_time             32776 non-null  float64\n",
            " 21  segment_osrm_time               32775 non-null  float64\n",
            " 22  segment_osrm_distance           32775 non-null  float64\n",
            " 23  segment_factor                  32775 non-null  float64\n",
            "dtypes: bool(1), float64(10), int64(1), object(12)\n",
            "memory usage: 5.8+ MB\n"
          ]
        }
      ]
    },
    {
      "cell_type": "markdown",
      "source": [
        "### Issues Found: (by inspecting info)\n",
        "*   'source_name' & 'destination_name' have missing values.\n",
        "*   Time-related columns (trip_creation_time, od_start_time, od_end_time) are 'object' (string) type, not datetime, it will prevents calculations\n",
        "*   Soo many 'unknown' columns exist ('is_cutoff', 'factor',etc)\n",
        "*   Data dictionary confirms data is at a 'segment' level. The 'actual_time' and 'osrm_time' columns are cumulative and are confusing\n",
        "* The 'segment_actual_time' and 'segment_osrm_time' are clearer and better for doing analysis.\n",
        "\n",
        "\n"
      ],
      "metadata": {
        "id": "IMZRPnUl6rNg"
      }
    },
    {
      "cell_type": "code",
      "source": [
        "# The following are details of the columns we have in dataset\n",
        "\"\"\"\n",
        "DATA DICTIONARY\n",
        "\n",
        "• data: Tells whether the data is testing or training data\n",
        "• trip_creation_time: Timestamp of trip creation\n",
        "• route_schedule_uuid: Unique Id for a particular route schedule\n",
        "• route_type: Transportation type\n",
        "    • FTL – Full Truck Load: FTL shipments get to the destination sooner,\n",
        "      as the truck is making no other pickups or drop-offs along the way.\n",
        "    • Carting: Handling system consisting of small vehicles (carts)\n",
        "• trip_uuid: Unique ID given to a particular trip\n",
        "• source_center: Source ID of trip origin\n",
        "• source_name: Source Name of trip origin\n",
        "• destination_cente: Destination ID\n",
        "• destination_name: Destination Name\n",
        "• od_start_time: Trip start time\n",
        "• od_end_time: Trip end time\n",
        "• start_scan_to_end_scan: Time taken to deliver from source to destination (Cumulative)\n",
        "• actual_distance_to_destination: Distance in Kms (Cumulative)\n",
        "• actual_time: Actual time taken to complete the delivery (Cumulative)\n",
        "• osrm_time: An open-source routing engine time calculator (Cumulative)\n",
        "• osrm_distance: An open-source routing engine distance calculator (Cumulative)\n",
        "• segment_actual_time: Time taken for the subset of the package delivery\n",
        "• segment_osrm_time: The OSRM segment time\n",
        "• segment_osrm_distance: The OSRM segment distance\n",
        "\n",
        " we have to drop thesee Unknown/Ignored Columns\n",
        "• is_cutoff, cutoff_factor, cutoff_timestamp, factor, segment_factor\n",
        "\n",
        "\"\"\""
      ],
      "metadata": {
        "colab": {
          "base_uri": "https://localhost:8080/",
          "height": 209
        },
        "id": "PSXJ3VwK9qVL",
        "outputId": "f5e8141f-6d72-4703-dca6-4024d60f0feb"
      },
      "execution_count": 9,
      "outputs": [
        {
          "output_type": "execute_result",
          "data": {
            "text/plain": [
              "'\\nDATA DICTIONARY\\n\\n• data: Tells whether the data is testing or training data\\n• trip_creation_time: Timestamp of trip creation\\n• route_schedule_uuid: Unique Id for a particular route schedule\\n• route_type: Transportation type\\n    • FTL – Full Truck Load: FTL shipments get to the destination sooner,\\n      as the truck is making no other pickups or drop-offs along the way.\\n    • Carting: Handling system consisting of small vehicles (carts)\\n• trip_uuid: Unique ID given to a particular trip\\n• source_center: Source ID of trip origin\\n• source_name: Source Name of trip origin\\n• destination_cente: Destination ID\\n• destination_name: Destination Name\\n• od_start_time: Trip start time\\n• od_end_time: Trip end time\\n• start_scan_to_end_scan: Time taken to deliver from source to destination (Cumulative)\\n• actual_distance_to_destination: Distance in Kms (Cumulative)\\n• actual_time: Actual time taken to complete the delivery (Cumulative)\\n• osrm_time: An open-source routing engine time calculator (Cumulative)\\n• osrm_distance: An open-source routing engine distance calculator (Cumulative)\\n• segment_actual_time: Time taken for the subset of the package delivery\\n• segment_osrm_time: The OSRM segment time\\n• segment_osrm_distance: The OSRM segment distance\\n\\n we have to drop thesee Unknown/Ignored Columns\\n• is_cutoff, cutoff_factor, cutoff_timestamp, factor, segment_factor\\n\\n'"
            ],
            "application/vnd.google.colaboratory.intrinsic+json": {
              "type": "string"
            }
          },
          "metadata": {},
          "execution_count": 9
        }
      ]
    },
    {
      "cell_type": "markdown",
      "source": [
        "### Checking for  Missing Values and Duplicates\n"
      ],
      "metadata": {
        "id": "mgneikMMZ-I7"
      }
    },
    {
      "cell_type": "code",
      "source": [
        "# Check missing values\n",
        "print(df_raw.isnull().sum())"
      ],
      "metadata": {
        "colab": {
          "base_uri": "https://localhost:8080/"
        },
        "id": "1f6usIkIZ5VI",
        "outputId": "338ed055-72e1-43e2-e667-82294ffe5ffe"
      },
      "execution_count": 10,
      "outputs": [
        {
          "output_type": "stream",
          "name": "stdout",
          "text": [
            "data                                0\n",
            "trip_creation_time                  0\n",
            "route_schedule_uuid                 0\n",
            "route_type                          1\n",
            "trip_uuid                           1\n",
            "source_center                       1\n",
            "source_name                       213\n",
            "destination_center                  1\n",
            "destination_name                  167\n",
            "od_start_time                       1\n",
            "od_end_time                         1\n",
            "start_scan_to_end_scan              1\n",
            "is_cutoff                           1\n",
            "cutoff_factor                       1\n",
            "cutoff_timestamp                    1\n",
            "actual_distance_to_destination      1\n",
            "actual_time                         1\n",
            "osrm_time                           1\n",
            "osrm_distance                       1\n",
            "factor                              1\n",
            "segment_actual_time                 1\n",
            "segment_osrm_time                   1\n",
            "segment_osrm_distance               1\n",
            "segment_factor                      1\n",
            "dtype: int64\n"
          ]
        }
      ]
    },
    {
      "cell_type": "code",
      "source": [
        "# Checking duplicates\n",
        "df_raw.duplicated().sum()"
      ],
      "metadata": {
        "colab": {
          "base_uri": "https://localhost:8080/"
        },
        "id": "24qt-hn8cHvv",
        "outputId": "b2047c60-2d02-4efa-86e6-f99dc1ec73d8"
      },
      "execution_count": 12,
      "outputs": [
        {
          "output_type": "execute_result",
          "data": {
            "text/plain": [
              "np.int64(0)"
            ]
          },
          "metadata": {},
          "execution_count": 12
        }
      ]
    },
    {
      "cell_type": "markdown",
      "source": [
        "## Cleaning and Transformation\n"
      ],
      "metadata": {
        "id": "cG_3m-AGcW2p"
      }
    },
    {
      "cell_type": "code",
      "source": [
        "df_clean = df_raw.copy()"
      ],
      "metadata": {
        "id": "fIjwVNasckrw"
      },
      "execution_count": 36,
      "outputs": []
    },
    {
      "cell_type": "markdown",
      "source": [
        "### Handling Missing Values\n"
      ],
      "metadata": {
        "id": "nP2zeYfEcrlj"
      }
    },
    {
      "cell_type": "code",
      "source": [
        "df_clean.dropna(subset=['source_name', 'destination_name'], inplace=True)"
      ],
      "metadata": {
        "id": "HhFz4Jgfcom1"
      },
      "execution_count": 37,
      "outputs": []
    },
    {
      "cell_type": "code",
      "source": [
        "df_clean.shape"
      ],
      "metadata": {
        "colab": {
          "base_uri": "https://localhost:8080/"
        },
        "id": "09nZ0GOZc7Ij",
        "outputId": "7fc20113-61c7-42fc-86c1-8aba5cfcbe3e"
      },
      "execution_count": 23,
      "outputs": [
        {
          "output_type": "execute_result",
          "data": {
            "text/plain": [
              "(114335, 24)"
            ]
          },
          "metadata": {},
          "execution_count": 23
        }
      ]
    },
    {
      "cell_type": "markdown",
      "source": [
        "### Drop unknown columns\n",
        "\n",
        "\n",
        "\n"
      ],
      "metadata": {
        "id": "9YGNcIKOdVoQ"
      }
    },
    {
      "cell_type": "code",
      "source": [
        "columns_to_drop = ['is_cutoff','cutoff_factor','cutoff_timestamp',\n",
        "                   'factor','segment_factor']\n",
        "\n",
        "print(\"Columns in df_clean before dropping:\", df_clean.columns.tolist())\n",
        "\n",
        "# df_clean = df_clean.drop(columns=columns_to_drop)\n",
        "# print(\"Dropped irrelevant/unknown columns.\")"
      ],
      "metadata": {
        "colab": {
          "base_uri": "https://localhost:8080/"
        },
        "id": "XtsAtyoAdZvk",
        "outputId": "f315b327-0537-47c2-d037-f053195c15d2"
      },
      "execution_count": 47,
      "outputs": [
        {
          "output_type": "stream",
          "name": "stdout",
          "text": [
            "Columns in df_clean before dropping: ['data', 'trip_creation_time', 'route_schedule_uuid', 'route_type', 'trip_uuid', 'source_center', 'source_name', 'destination_center', 'destination_name', 'od_start_time', 'od_end_time', 'start_scan_to_end_scan', 'actual_distance_to_destination', 'actual_time', 'osrm_time', 'osrm_distance', 'segment_actual_time', 'segment_osrm_time', 'segment_osrm_distance', 'actual_trip_duration_hours', 'actual_time_hours', 'osrm_time_hours', 'delay_vs_expected_hours', 'source_state', 'destination_state', 'route']\n"
          ]
        }
      ]
    },
    {
      "cell_type": "markdown",
      "metadata": {
        "id": "8d8f3c01"
      },
      "source": [
        "### Check columns before dropping"
      ]
    },
    {
      "cell_type": "markdown",
      "source": [
        "### Convert data type(Time)"
      ],
      "metadata": {
        "id": "tU1LeAIYd04I"
      }
    },
    {
      "cell_type": "code",
      "source": [
        "''' To perform time based analysis,\n",
        " we must convert time column from string to datetime object '''\n",
        "\n",
        "df_clean['trip_creation_time'] = pd.to_datetime(df_clean['trip_creation_time'])\n",
        "df_clean['od_start_time'] = pd.to_datetime(df_clean['od_start_time'])\n",
        "df_clean['od_end_time'] = pd.to_datetime(df_clean['od_end_time'])\n",
        "print(\"Converted time columns to datetime objects.\")"
      ],
      "metadata": {
        "colab": {
          "base_uri": "https://localhost:8080/"
        },
        "id": "JrMqfFiQd7MZ",
        "outputId": "e9ea3399-7779-4c00-ae0c-7a65461eee84"
      },
      "execution_count": 39,
      "outputs": [
        {
          "output_type": "stream",
          "name": "stdout",
          "text": [
            "Converted time columns to datetime objects.\n"
          ]
        }
      ]
    },
    {
      "cell_type": "markdown",
      "source": [
        "### Handle Duplicates"
      ],
      "metadata": {
        "id": "asA4HNYVex0E"
      }
    },
    {
      "cell_type": "code",
      "source": [
        "# df_clean = df_clean.drop_duplicates()\n",
        "''' Earler we found there were 0 duplicates, so when we have duplicates,\n",
        "we will use this '''"
      ],
      "metadata": {
        "colab": {
          "base_uri": "https://localhost:8080/",
          "height": 36
        },
        "id": "bzDVdCN5e0Yo",
        "outputId": "a838d207-cf38-408c-a00d-6858dd6e8c0f"
      },
      "execution_count": 40,
      "outputs": [
        {
          "output_type": "execute_result",
          "data": {
            "text/plain": [
              "' Earler we found there were 0 duplicates, so when we have duplicates,\\nwe will use this '"
            ],
            "application/vnd.google.colaboratory.intrinsic+json": {
              "type": "string"
            }
          },
          "metadata": {},
          "execution_count": 40
        }
      ]
    },
    {
      "cell_type": "markdown",
      "source": [
        "## Feature Engineering(Prep for Analysis)"
      ],
      "metadata": {
        "id": "9MTLI47GfeCJ"
      }
    },
    {
      "cell_type": "code",
      "source": [
        "# Converting seconds to hours(by calc diff b/w seconds)- for readability\n",
        "df_clean['actual_trip_duration_hours'] = (df_clean['od_end_time'] -\n",
        "                                          df_clean['od_start_time']).dt.total_seconds() / 3600"
      ],
      "metadata": {
        "id": "hHrgiuJnfdq-"
      },
      "execution_count": 41,
      "outputs": []
    },
    {
      "cell_type": "code",
      "source": [
        "# Calculating delay vs expected hours\n",
        "# we compare actual_time(provided) and orsm_time(expected)\n",
        "# A +ve number means a delay\n",
        "# we have to convert minutes to hours coz they are in minutes\n",
        "\n",
        "df_clean['actual_time_hours'] = df_clean['actual_time'] / 60\n",
        "df_clean['osrm_time_hours'] = df_clean['osrm_time'] / 60\n",
        "\n",
        "df_clean['delay_vs_expected_hours'] = (\n",
        "    df_clean['actual_time_hours'] - df_clean['osrm_time_hours']\n",
        ")"
      ],
      "metadata": {
        "id": "3RlpZOexg_eJ"
      },
      "execution_count": 42,
      "outputs": []
    },
    {
      "cell_type": "code",
      "source": [
        "'''Extracting Route Information\n",
        "The 'source_name' and 'destination_name' have state info we can extract.\n",
        "for eg, look into this'Anand_VUNagar_DC (Gujarat)'\n",
        "'''\n",
        "\n",
        "df_clean['source_state'] = df_clean['source_name'].apply(\n",
        "    lambda x: x.split('(')[-1].replace(')', ''))\n",
        "\n",
        "df_clean['destination_state'] = df_clean['destination_name'].apply(\n",
        "    lambda x: x.split('(')[-1].replace(')', ''))\n",
        "\n",
        "# Creating a 'route' column for easy grouping\n",
        "df_clean['route'] = (\n",
        "    df_clean['source_state'] + ' -> ' + df_clean['destination_state'])\n",
        "\n",
        "print(\"Created new features: 'actual_trip_duration_hours', 'delay_vs_expected_hours', 'route'.\")"
      ],
      "metadata": {
        "colab": {
          "base_uri": "https://localhost:8080/"
        },
        "id": "asEBLW0mh0jV",
        "outputId": "7c452274-b817-46a5-c880-37c63179bce1"
      },
      "execution_count": 48,
      "outputs": [
        {
          "output_type": "stream",
          "name": "stdout",
          "text": [
            "Created new features: 'actual_trip_duration_hours', 'delay_vs_expected_hours', 'route'.\n"
          ]
        }
      ]
    },
    {
      "cell_type": "markdown",
      "source": [
        "###Final Validation"
      ],
      "metadata": {
        "id": "_u0AAHjOiVl6"
      }
    },
    {
      "cell_type": "code",
      "source": [
        "df_clean.info"
      ],
      "metadata": {
        "colab": {
          "base_uri": "https://localhost:8080/",
          "height": 203
        },
        "id": "H5-nAhhNiVIo",
        "outputId": "abf04384-e87e-421e-954a-2b858376984d"
      },
      "execution_count": 51,
      "outputs": [
        {
          "output_type": "execute_result",
          "data": {
            "text/plain": [
              "<bound method DataFrame.info of             data         trip_creation_time  \\\n",
              "0       training 2018-09-20 02:35:36.476840   \n",
              "1       training 2018-09-20 02:35:36.476840   \n",
              "2       training 2018-09-20 02:35:36.476840   \n",
              "3       training 2018-09-20 02:35:36.476840   \n",
              "4       training 2018-09-20 02:35:36.476840   \n",
              "...          ...                        ...   \n",
              "114705      test 2018-09-27 03:50:13.599818   \n",
              "114706      test 2018-09-27 03:50:13.599818   \n",
              "114707      test 2018-09-27 03:50:13.599818   \n",
              "114708      test 2018-09-27 03:50:13.599818   \n",
              "114709      test 2018-09-27 03:50:13.599818   \n",
              "\n",
              "                                      route_schedule_uuid route_type  \\\n",
              "0       thanos::sroute:eb7bfc78-b351-4c0e-a951-fa3d5c3...    Carting   \n",
              "1       thanos::sroute:eb7bfc78-b351-4c0e-a951-fa3d5c3...    Carting   \n",
              "2       thanos::sroute:eb7bfc78-b351-4c0e-a951-fa3d5c3...    Carting   \n",
              "3       thanos::sroute:eb7bfc78-b351-4c0e-a951-fa3d5c3...    Carting   \n",
              "4       thanos::sroute:eb7bfc78-b351-4c0e-a951-fa3d5c3...    Carting   \n",
              "...                                                   ...        ...   \n",
              "114705  thanos::sroute:cce26bb2-2365-4c9c-88f4-74322d1...    Carting   \n",
              "114706  thanos::sroute:cce26bb2-2365-4c9c-88f4-74322d1...    Carting   \n",
              "114707  thanos::sroute:cce26bb2-2365-4c9c-88f4-74322d1...    Carting   \n",
              "114708  thanos::sroute:cce26bb2-2365-4c9c-88f4-74322d1...    Carting   \n",
              "114709  thanos::sroute:cce26bb2-2365-4c9c-88f4-74322d1...    Carting   \n",
              "\n",
              "                      trip_uuid source_center  \\\n",
              "0       trip-153741093647649320  IND388121AAA   \n",
              "1       trip-153741093647649320  IND388121AAA   \n",
              "2       trip-153741093647649320  IND388121AAA   \n",
              "3       trip-153741093647649320  IND388121AAA   \n",
              "4       trip-153741093647649320  IND388121AAA   \n",
              "...                         ...           ...   \n",
              "114705  trip-153802021359954030  IND516115AAA   \n",
              "114706  trip-153802021359954030  IND516115AAA   \n",
              "114707  trip-153802021359954030  IND516115AAA   \n",
              "114708  trip-153802021359954030  IND516115AAA   \n",
              "114709  trip-153802021359954030  IND516115AAA   \n",
              "\n",
              "                               source_name destination_center  \\\n",
              "0               Anand_VUNagar_DC (Gujarat)       IND388620AAB   \n",
              "1               Anand_VUNagar_DC (Gujarat)       IND388620AAB   \n",
              "2               Anand_VUNagar_DC (Gujarat)       IND388620AAB   \n",
              "3               Anand_VUNagar_DC (Gujarat)       IND388620AAB   \n",
              "4               Anand_VUNagar_DC (Gujarat)       IND388620AAB   \n",
              "...                                    ...                ...   \n",
              "114705  Rajampet_RSRoad_D (Andhra Pradesh)       IND517501AAB   \n",
              "114706  Rajampet_RSRoad_D (Andhra Pradesh)       IND517501AAB   \n",
              "114707  Rajampet_RSRoad_D (Andhra Pradesh)       IND517501AAB   \n",
              "114708  Rajampet_RSRoad_D (Andhra Pradesh)       IND517501AAB   \n",
              "114709  Rajampet_RSRoad_D (Andhra Pradesh)       IND517501AAB   \n",
              "\n",
              "                             destination_name              od_start_time  \\\n",
              "0               Khambhat_MotvdDPP_D (Gujarat) 2018-09-20 03:21:32.418600   \n",
              "1               Khambhat_MotvdDPP_D (Gujarat) 2018-09-20 03:21:32.418600   \n",
              "2               Khambhat_MotvdDPP_D (Gujarat) 2018-09-20 03:21:32.418600   \n",
              "3               Khambhat_MotvdDPP_D (Gujarat) 2018-09-20 03:21:32.418600   \n",
              "4               Khambhat_MotvdDPP_D (Gujarat) 2018-09-20 03:21:32.418600   \n",
              "...                                       ...                        ...   \n",
              "114705  Tirupati_Balajicly_I (Andhra Pradesh) 2018-09-27 08:30:35.814948   \n",
              "114706  Tirupati_Balajicly_I (Andhra Pradesh) 2018-09-27 08:30:35.814948   \n",
              "114707  Tirupati_Balajicly_I (Andhra Pradesh) 2018-09-27 08:30:35.814948   \n",
              "114708  Tirupati_Balajicly_I (Andhra Pradesh) 2018-09-27 08:30:35.814948   \n",
              "114709  Tirupati_Balajicly_I (Andhra Pradesh) 2018-09-27 08:30:35.814948   \n",
              "\n",
              "                      od_end_time  start_scan_to_end_scan  \\\n",
              "0      2018-09-20 04:47:45.236797                    86.0   \n",
              "1      2018-09-20 04:47:45.236797                    86.0   \n",
              "2      2018-09-20 04:47:45.236797                    86.0   \n",
              "3      2018-09-20 04:47:45.236797                    86.0   \n",
              "4      2018-09-20 04:47:45.236797                    86.0   \n",
              "...                           ...                     ...   \n",
              "114705 2018-09-27 12:05:07.658275                   214.0   \n",
              "114706 2018-09-27 12:05:07.658275                   214.0   \n",
              "114707 2018-09-27 12:05:07.658275                   214.0   \n",
              "114708 2018-09-27 12:05:07.658275                   214.0   \n",
              "114709 2018-09-27 12:05:07.658275                   214.0   \n",
              "\n",
              "        actual_distance_to_destination  actual_time  osrm_time  osrm_distance  \\\n",
              "0                            10.435660         14.0       11.0        11.9653   \n",
              "1                            18.936842         24.0       20.0        21.7243   \n",
              "2                            27.637279         40.0       28.0        32.5395   \n",
              "3                            36.118028         62.0       40.0        45.5620   \n",
              "4                            39.386040         68.0       44.0        54.2181   \n",
              "...                                ...          ...        ...            ...   \n",
              "114705                        9.186115         18.0        9.0         9.6853   \n",
              "114706                       19.753032         54.0       27.0        34.3122   \n",
              "114707                       27.522555         66.0       33.0        42.6287   \n",
              "114708                       36.225428         81.0       39.0        51.6757   \n",
              "114709                       45.625411         99.0       47.0        61.9441   \n",
              "\n",
              "        segment_actual_time  segment_osrm_time  segment_osrm_distance  \\\n",
              "0                      14.0               11.0                11.9653   \n",
              "1                      10.0                9.0                 9.7590   \n",
              "2                      16.0                7.0                10.8152   \n",
              "3                      21.0               12.0                13.0224   \n",
              "4                       6.0                5.0                 3.9153   \n",
              "...                     ...                ...                    ...   \n",
              "114705                 18.0                9.0                 9.6853   \n",
              "114706                 36.0               17.0                24.6269   \n",
              "114707                 12.0                5.0                 8.3165   \n",
              "114708                 15.0                6.0                 9.0470   \n",
              "114709                 17.0                7.0                10.2684   \n",
              "\n",
              "        actual_trip_duration_hours  actual_time_hours  osrm_time_hours  \\\n",
              "0                         1.436894           0.233333         0.183333   \n",
              "1                         1.436894           0.400000         0.333333   \n",
              "2                         1.436894           0.666667         0.466667   \n",
              "3                         1.436894           1.033333         0.666667   \n",
              "4                         1.436894           1.133333         0.733333   \n",
              "...                            ...                ...              ...   \n",
              "114705                    3.575512           0.300000         0.150000   \n",
              "114706                    3.575512           0.900000         0.450000   \n",
              "114707                    3.575512           1.100000         0.550000   \n",
              "114708                    3.575512           1.350000         0.650000   \n",
              "114709                    3.575512           1.650000         0.783333   \n",
              "\n",
              "        delay_vs_expected_hours    source_state destination_state  \\\n",
              "0                      0.050000         Gujarat           Gujarat   \n",
              "1                      0.066667         Gujarat           Gujarat   \n",
              "2                      0.200000         Gujarat           Gujarat   \n",
              "3                      0.366667         Gujarat           Gujarat   \n",
              "4                      0.400000         Gujarat           Gujarat   \n",
              "...                         ...             ...               ...   \n",
              "114705                 0.150000  Andhra Pradesh    Andhra Pradesh   \n",
              "114706                 0.450000  Andhra Pradesh    Andhra Pradesh   \n",
              "114707                 0.550000  Andhra Pradesh    Andhra Pradesh   \n",
              "114708                 0.700000  Andhra Pradesh    Andhra Pradesh   \n",
              "114709                 0.866667  Andhra Pradesh    Andhra Pradesh   \n",
              "\n",
              "                                   route  \n",
              "0                     Gujarat -> Gujarat  \n",
              "1                     Gujarat -> Gujarat  \n",
              "2                     Gujarat -> Gujarat  \n",
              "3                     Gujarat -> Gujarat  \n",
              "4                     Gujarat -> Gujarat  \n",
              "...                                  ...  \n",
              "114705  Andhra Pradesh -> Andhra Pradesh  \n",
              "114706  Andhra Pradesh -> Andhra Pradesh  \n",
              "114707  Andhra Pradesh -> Andhra Pradesh  \n",
              "114708  Andhra Pradesh -> Andhra Pradesh  \n",
              "114709  Andhra Pradesh -> Andhra Pradesh  \n",
              "\n",
              "[114335 rows x 26 columns]>"
            ],
            "text/html": [
              "<div style=\"max-width:800px; border: 1px solid var(--colab-border-color);\"><style>\n",
              "      pre.function-repr-contents {\n",
              "        overflow-x: auto;\n",
              "        padding: 8px 12px;\n",
              "        max-height: 500px;\n",
              "      }\n",
              "\n",
              "      pre.function-repr-contents.function-repr-contents-collapsed {\n",
              "        cursor: pointer;\n",
              "        max-height: 100px;\n",
              "      }\n",
              "    </style>\n",
              "    <pre style=\"white-space: initial; background:\n",
              "         var(--colab-secondary-surface-color); padding: 8px 12px;\n",
              "         border-bottom: 1px solid var(--colab-border-color);\"><b>pandas.core.frame.DataFrame.info</b><br/>def info(verbose: bool | None=None, buf: WriteBuffer[str] | None=None, max_cols: int | None=None, memory_usage: bool | str | None=None, show_counts: bool | None=None) -&gt; None</pre><pre class=\"function-repr-contents function-repr-contents-collapsed\" style=\"\"><a class=\"filepath\" style=\"display:none\" href=\"#\">/usr/local/lib/python3.12/dist-packages/pandas/core/frame.py</a>Print a concise summary of a DataFrame.\n",
              "\n",
              "This method prints information about a DataFrame including\n",
              "the index dtype and columns, non-null values and memory usage.\n",
              "\n",
              "Parameters\n",
              "----------\n",
              "verbose : bool, optional\n",
              "    Whether to print the full summary. By default, the setting in\n",
              "    ``pandas.options.display.max_info_columns`` is followed.\n",
              "buf : writable buffer, defaults to sys.stdout\n",
              "    Where to send the output. By default, the output is printed to\n",
              "    sys.stdout. Pass a writable buffer if you need to further process\n",
              "    the output.\n",
              "max_cols : int, optional\n",
              "    When to switch from the verbose to the truncated output. If the\n",
              "    DataFrame has more than `max_cols` columns, the truncated output\n",
              "    is used. By default, the setting in\n",
              "    ``pandas.options.display.max_info_columns`` is used.\n",
              "memory_usage : bool, str, optional\n",
              "    Specifies whether total memory usage of the DataFrame\n",
              "    elements (including the index) should be displayed. By default,\n",
              "    this follows the ``pandas.options.display.memory_usage`` setting.\n",
              "\n",
              "    True always show memory usage. False never shows memory usage.\n",
              "    A value of &#x27;deep&#x27; is equivalent to &quot;True with deep introspection&quot;.\n",
              "    Memory usage is shown in human-readable units (base-2\n",
              "    representation). Without deep introspection a memory estimation is\n",
              "    made based in column dtype and number of rows assuming values\n",
              "    consume the same memory amount for corresponding dtypes. With deep\n",
              "    memory introspection, a real memory usage calculation is performed\n",
              "    at the cost of computational resources. See the\n",
              "    :ref:`Frequently Asked Questions &lt;df-memory-usage&gt;` for more\n",
              "    details.\n",
              "show_counts : bool, optional\n",
              "    Whether to show the non-null counts. By default, this is shown\n",
              "    only if the DataFrame is smaller than\n",
              "    ``pandas.options.display.max_info_rows`` and\n",
              "    ``pandas.options.display.max_info_columns``. A value of True always\n",
              "    shows the counts, and False never shows the counts.\n",
              "\n",
              "Returns\n",
              "-------\n",
              "None\n",
              "    This method prints a summary of a DataFrame and returns None.\n",
              "\n",
              "See Also\n",
              "--------\n",
              "DataFrame.describe: Generate descriptive statistics of DataFrame\n",
              "    columns.\n",
              "DataFrame.memory_usage: Memory usage of DataFrame columns.\n",
              "\n",
              "Examples\n",
              "--------\n",
              "&gt;&gt;&gt; int_values = [1, 2, 3, 4, 5]\n",
              "&gt;&gt;&gt; text_values = [&#x27;alpha&#x27;, &#x27;beta&#x27;, &#x27;gamma&#x27;, &#x27;delta&#x27;, &#x27;epsilon&#x27;]\n",
              "&gt;&gt;&gt; float_values = [0.0, 0.25, 0.5, 0.75, 1.0]\n",
              "&gt;&gt;&gt; df = pd.DataFrame({&quot;int_col&quot;: int_values, &quot;text_col&quot;: text_values,\n",
              "...                   &quot;float_col&quot;: float_values})\n",
              "&gt;&gt;&gt; df\n",
              "    int_col text_col  float_col\n",
              "0        1    alpha       0.00\n",
              "1        2     beta       0.25\n",
              "2        3    gamma       0.50\n",
              "3        4    delta       0.75\n",
              "4        5  epsilon       1.00\n",
              "\n",
              "Prints information of all columns:\n",
              "\n",
              "&gt;&gt;&gt; df.info(verbose=True)\n",
              "&lt;class &#x27;pandas.core.frame.DataFrame&#x27;&gt;\n",
              "RangeIndex: 5 entries, 0 to 4\n",
              "Data columns (total 3 columns):\n",
              " #   Column     Non-Null Count  Dtype\n",
              "---  ------     --------------  -----\n",
              " 0   int_col    5 non-null      int64\n",
              " 1   text_col   5 non-null      object\n",
              " 2   float_col  5 non-null      float64\n",
              "dtypes: float64(1), int64(1), object(1)\n",
              "memory usage: 248.0+ bytes\n",
              "\n",
              "Prints a summary of columns count and its dtypes but not per column\n",
              "information:\n",
              "\n",
              "&gt;&gt;&gt; df.info(verbose=False)\n",
              "&lt;class &#x27;pandas.core.frame.DataFrame&#x27;&gt;\n",
              "RangeIndex: 5 entries, 0 to 4\n",
              "Columns: 3 entries, int_col to float_col\n",
              "dtypes: float64(1), int64(1), object(1)\n",
              "memory usage: 248.0+ bytes\n",
              "\n",
              "Pipe output of DataFrame.info to buffer instead of sys.stdout, get\n",
              "buffer content and writes to a text file:\n",
              "\n",
              "&gt;&gt;&gt; import io\n",
              "&gt;&gt;&gt; buffer = io.StringIO()\n",
              "&gt;&gt;&gt; df.info(buf=buffer)\n",
              "&gt;&gt;&gt; s = buffer.getvalue()\n",
              "&gt;&gt;&gt; with open(&quot;df_info.txt&quot;, &quot;w&quot;,\n",
              "...           encoding=&quot;utf-8&quot;) as f:  # doctest: +SKIP\n",
              "...     f.write(s)\n",
              "260\n",
              "\n",
              "The `memory_usage` parameter allows deep introspection mode, specially\n",
              "useful for big DataFrames and fine-tune memory optimization:\n",
              "\n",
              "&gt;&gt;&gt; random_strings_array = np.random.choice([&#x27;a&#x27;, &#x27;b&#x27;, &#x27;c&#x27;], 10 ** 6)\n",
              "&gt;&gt;&gt; df = pd.DataFrame({\n",
              "...     &#x27;column_1&#x27;: np.random.choice([&#x27;a&#x27;, &#x27;b&#x27;, &#x27;c&#x27;], 10 ** 6),\n",
              "...     &#x27;column_2&#x27;: np.random.choice([&#x27;a&#x27;, &#x27;b&#x27;, &#x27;c&#x27;], 10 ** 6),\n",
              "...     &#x27;column_3&#x27;: np.random.choice([&#x27;a&#x27;, &#x27;b&#x27;, &#x27;c&#x27;], 10 ** 6)\n",
              "... })\n",
              "&gt;&gt;&gt; df.info()\n",
              "&lt;class &#x27;pandas.core.frame.DataFrame&#x27;&gt;\n",
              "RangeIndex: 1000000 entries, 0 to 999999\n",
              "Data columns (total 3 columns):\n",
              " #   Column    Non-Null Count    Dtype\n",
              "---  ------    --------------    -----\n",
              " 0   column_1  1000000 non-null  object\n",
              " 1   column_2  1000000 non-null  object\n",
              " 2   column_3  1000000 non-null  object\n",
              "dtypes: object(3)\n",
              "memory usage: 22.9+ MB\n",
              "\n",
              "&gt;&gt;&gt; df.info(memory_usage=&#x27;deep&#x27;)\n",
              "&lt;class &#x27;pandas.core.frame.DataFrame&#x27;&gt;\n",
              "RangeIndex: 1000000 entries, 0 to 999999\n",
              "Data columns (total 3 columns):\n",
              " #   Column    Non-Null Count    Dtype\n",
              "---  ------    --------------    -----\n",
              " 0   column_1  1000000 non-null  object\n",
              " 1   column_2  1000000 non-null  object\n",
              " 2   column_3  1000000 non-null  object\n",
              "dtypes: object(3)\n",
              "memory usage: 165.9 MB</pre>\n",
              "      <script>\n",
              "      if (google.colab.kernel.accessAllowed && google.colab.files && google.colab.files.view) {\n",
              "        for (const element of document.querySelectorAll('.filepath')) {\n",
              "          element.style.display = 'block'\n",
              "          element.onclick = (event) => {\n",
              "            event.preventDefault();\n",
              "            event.stopPropagation();\n",
              "            google.colab.files.view(element.textContent, 3646);\n",
              "          };\n",
              "        }\n",
              "      }\n",
              "      for (const element of document.querySelectorAll('.function-repr-contents')) {\n",
              "        element.onclick = (event) => {\n",
              "          event.preventDefault();\n",
              "          event.stopPropagation();\n",
              "          element.classList.toggle('function-repr-contents-collapsed');\n",
              "        };\n",
              "      }\n",
              "      </script>\n",
              "      </div>"
            ]
          },
          "metadata": {},
          "execution_count": 51
        }
      ]
    },
    {
      "cell_type": "markdown",
      "source": [
        "### Saving the cleansed data to new file for analysis phase"
      ],
      "metadata": {
        "id": "1ejjX3FHifY8"
      }
    },
    {
      "cell_type": "code",
      "source": [
        "df_clean.to_csv('delhivery_data_CLEANED.csv', index=False)\n",
        "print(\"\\nSuccessfully cleaned data and saved to 'delhivery_data_CLEANED.csv'\")"
      ],
      "metadata": {
        "colab": {
          "base_uri": "https://localhost:8080/"
        },
        "id": "SjnMusMSiwKB",
        "outputId": "cef06fd0-41cf-4151-d0b8-27adc417ce8f"
      },
      "execution_count": 54,
      "outputs": [
        {
          "output_type": "stream",
          "name": "stdout",
          "text": [
            "\n",
            "Successfully cleaned data and saved to 'delhivery_data_CLEANED.csv'\n"
          ]
        }
      ]
    }
  ]
}